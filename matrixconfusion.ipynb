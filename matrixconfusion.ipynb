{
 "cells": [
  {
   "cell_type": "code",
   "execution_count": 2,
   "id": "bdae36c1",
   "metadata": {},
   "outputs": [
    {
     "ename": "ImportError",
     "evalue": "cannot import name 'plt' from 'matplotlib' (c:\\Users\\mymy\\WORKSPACE\\MLOps\\study\\Lib\\site-packages\\matplotlib\\__init__.py)",
     "output_type": "error",
     "traceback": [
      "\u001b[31m---------------------------------------------------------------------------\u001b[39m",
      "\u001b[31mImportError\u001b[39m                               Traceback (most recent call last)",
      "\u001b[36mCell\u001b[39m\u001b[36m \u001b[39m\u001b[32mIn[2]\u001b[39m\u001b[32m, line 3\u001b[39m\n\u001b[32m      1\u001b[39m \u001b[38;5;66;03m# Importando a função que irá calcular a matriz de confusão\u001b[39;00m\n\u001b[32m      2\u001b[39m \u001b[38;5;28;01mfrom\u001b[39;00m\u001b[38;5;250m \u001b[39m\u001b[34;01msklearn\u001b[39;00m\u001b[34;01m.\u001b[39;00m\u001b[34;01mmetrics\u001b[39;00m\u001b[38;5;250m \u001b[39m\u001b[38;5;28;01mimport\u001b[39;00m confusion_matrix\n\u001b[32m----> \u001b[39m\u001b[32m3\u001b[39m \u001b[38;5;28;01mfrom\u001b[39;00m\u001b[38;5;250m \u001b[39m\u001b[34;01mmatplotlib\u001b[39;00m\u001b[38;5;250m \u001b[39m\u001b[38;5;28;01mimport\u001b[39;00m plt \n\u001b[32m      5\u001b[39m \u001b[38;5;66;03m# Importando a biblioteca que contém a função de mapa de calor\u001b[39;00m\n\u001b[32m      6\u001b[39m \u001b[38;5;28;01mimport\u001b[39;00m\u001b[38;5;250m \u001b[39m\u001b[34;01mseaborn\u001b[39;00m\u001b[38;5;250m \u001b[39m\u001b[38;5;28;01mas\u001b[39;00m\u001b[38;5;250m \u001b[39m\u001b[34;01msns\u001b[39;00m\n",
      "\u001b[31mImportError\u001b[39m: cannot import name 'plt' from 'matplotlib' (c:\\Users\\mymy\\WORKSPACE\\MLOps\\study\\Lib\\site-packages\\matplotlib\\__init__.py)"
     ]
    }
   ],
   "source": [
    "# Importando a função que irá calcular a matriz de confusão\n",
    "from sklearn.metrics import confusion_matrix\n",
    "from matplotlib import plt \n",
    "\n",
    "# Importando a biblioteca que contém a função de mapa de calor\n",
    "import seaborn as sns\n",
    "\n",
    "# Primeiro você deve calcular VP, VN, FP e FN de acordo com os targets reais\n",
    "# (y_real) e os targets previstos (y_pred) pelo seu modelo\n",
    "\n",
    "matriz_conf = confusion_matrix(y_real, y_pred)\n",
    "\n",
    "# Em seguida você pode plotá-los na forma de matriz de confusão que conhecemos\n",
    "sns.heatmap(matriz_conf, annot=True, fmt='d', cmap='Blues')\n",
    "\n",
    "# E aqui indicar algumas informações como título, eixo X e eixo Y\n",
    "plt.title('Matriz de Confusão')\n",
    "plt.xlabel('Valor Predito')\n",
    "plt.ylabel('Valor Real')"
   ]
  },
  {
   "cell_type": "code",
   "execution_count": null,
   "id": "0a37f49a",
   "metadata": {},
   "outputs": [],
   "source": [
    "# Importando a função que irá calcular a acurácia\n",
    "from sklearn.metrics import accuracy_score\n",
    "\n",
    "# Aqui são feitas as predições para os dados de teste\n",
    "y_pred = modelo.predict(X_test)\n",
    "\n",
    "# Por fim, a acurácia é calculada de acordo com os targets reais\n",
    "# (y_real) e os targets previstos (y_pred) pelo seu modelo\n",
    "accuracy = accuracy_score(y_real, y_pred)\n",
    "\n"
   ]
  }
 ],
 "metadata": {
  "kernelspec": {
   "display_name": "study",
   "language": "python",
   "name": "python3"
  },
  "language_info": {
   "codemirror_mode": {
    "name": "ipython",
    "version": 3
   },
   "file_extension": ".py",
   "mimetype": "text/x-python",
   "name": "python",
   "nbconvert_exporter": "python",
   "pygments_lexer": "ipython3",
   "version": "3.11.9"
  }
 },
 "nbformat": 4,
 "nbformat_minor": 5
}
