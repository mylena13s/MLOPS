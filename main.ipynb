{
 "cells": [
  {
   "cell_type": "markdown",
   "id": "f57b8780",
   "metadata": {},
   "source": [
    "*Desenvolvimento*"
   ]
  },
  {
   "cell_type": "code",
   "execution_count": 2,
   "id": "7127c16a",
   "metadata": {},
   "outputs": [],
   "source": [
    "import sys\n",
    "import os\n",
    "import mlflow\n",
    "import mlflow.sklearn\n",
    "from urllib.parse import urlparse\n",
    "\n",
    "#Manipulação de dados\n",
    "import pandas as pd\n",
    "\n",
    "# Pré-Processamento\n",
    "from sklearn.preprocessing import StandardScaler\n",
    "\n",
    "# Criação do modelo\n",
    "from sklearn.model_selection import train_test_split\n",
    "from sklearn.neighbors import KNeighborsClassifier\n",
    "from sklearn.pipeline import Pipeline\n",
    "\n",
    "#Métricas\n",
    "from sklearn.metrics import accuracy_score\n",
    "from sklearn.metrics import precision_score\n",
    "from sklearn.metrics import recall_score\n",
    "from sklearn.metrics import f1_score\n",
    "from sklearn.metrics import roc_auc_score\n",
    "from sklearn.metrics import classification_report\n",
    "from sklearn.metrics import confusion_matrix\n",
    "\n",
    "#Ignorar avisos de atualização, etc\n",
    "import warnings\n",
    "warnings.filterwarnings(\"ignore\")\n",
    "\n",
    "#Gráficos\n",
    "import seaborn as sns\n",
    "import matplotlib.pyplot as plt"
   ]
  },
  {
   "cell_type": "code",
   "execution_count": null,
   "id": "cae88401",
   "metadata": {},
   "outputs": [],
   "source": [
    "# Código para sistema de log \n",
    "\n",
    "import logging\n",
    "\n",
    "logging.basicConfig(level=logging.WARN)\n",
    "logger = logging.getLogger(__name__)"
   ]
  },
  {
   "cell_type": "code",
   "execution_count": 6,
   "id": "a4a2ef01",
   "metadata": {},
   "outputs": [],
   "source": [
    "mlflow.set_tracking_uri('http://127.0.0.1:5000/')\n",
    "mlflow.set_experiment(experiment_name='Wine_Classification')\n",
    "tags = {\n",
    "        \"Projeto\": \"Tutorial MLflow\",\n",
    "        \"team\": \"Data Science\",\n",
    "        \"dataset\": \"Wine\"\n",
    "       }"
   ]
  },
  {
   "cell_type": "code",
   "execution_count": 31,
   "id": "1642b467",
   "metadata": {},
   "outputs": [],
   "source": [
    "def metricas(y_test, y_predict):\n",
    "    acuracia = accuracy_score(y_test, y_predict)\n",
    "    precision = precision_score(y_test, y_predict,average='weighted')\n",
    "    recall = recall_score(y_test, y_predict,average='weighted')\n",
    "    f1 = f1_score(y_test, y_predict,average='weighted')\n",
    "    return acuracia, precision, recall, f1"
   ]
  },
  {
   "cell_type": "code",
   "execution_count": 32,
   "id": "653c27b9",
   "metadata": {},
   "outputs": [],
   "source": [
    "def matriz_confusao(y_test, y_predict):\n",
    "    matriz_conf = confusion_matrix(y_test.values.ravel(), y_predict)\n",
    "    fig = plt.figure()\n",
    "    ax = plt.subplot()\n",
    "    sns.heatmap(matriz_conf, annot=True, cmap='Blues', ax=ax);\n",
    "\n",
    "    ax.set_xlabel('Valor Predito');\n",
    "    ax.set_ylabel('Valor Real'); \n",
    "    ax.set_title('Matriz de Confusão'); \n",
    "    ax.xaxis.set_ticklabels(['Classe 1', 'Classe 2', 'Classe 3']);\n",
    "    ax.yaxis.set_ticklabels(['Classe 1', 'Classe 2', 'Classe 3']);\n",
    "    plt.close()\n",
    "    return fig"
   ]
  },
  {
   "cell_type": "code",
   "execution_count": 33,
   "id": "30ca6ea1",
   "metadata": {},
   "outputs": [],
   "source": [
    "if __name__ == \"__main__\":\n",
    "    warnings.filterwarnings(\"ignore\")\n",
    "\n",
    "    df = pd.read_csv('C:/Users/mymy/WORKSPACE/MLOps/wine-mlflow/data.csv', sep = ',',names=range(1, 15, 1))\n",
    "\n",
    "    train, test = train_test_split(df, random_state=42)\n",
    "    x_train = train.drop(columns=[1])\n",
    "    x_test = test.drop(columns=[1])\n",
    "    y_train = train[[1]]\n",
    "    y_test = test[[1]]"
   ]
  },
  {
   "cell_type": "code",
   "execution_count": 39,
   "id": "ada03510",
   "metadata": {},
   "outputs": [
    {
     "name": "stdout",
     "output_type": "stream",
     "text": [
      "Número de Vizinhos: 5\n",
      "Acurácia: 0.9555555555555556\n",
      "Precision: 0.9586538461538462\n",
      "Recall: 0.9555555555555556\n",
      "F1-Score: 0.9550512333965844\n"
     ]
    },
    {
     "name": "stderr",
     "output_type": "stream",
     "text": [
      "2025/06/06 19:31:29 WARNING mlflow.models.model: Model logged without a signature and input example. Please set `input_example` parameter when logging the model to auto infer the model signature.\n"
     ]
    },
    {
     "name": "stdout",
     "output_type": "stream",
     "text": [
      "🏃 View run KNeighborsClassifier at: http://127.0.0.1:5000/#/experiments/574827219160013650/runs/6e1a13593fc848af9c7aeda19fbbbc8f\n",
      "🧪 View experiment at: http://127.0.0.1:5000/#/experiments/574827219160013650\n"
     ]
    }
   ],
   "source": [
    "import os\n",
    "import mlflow\n",
    "import mlflow.sklearn\n",
    "from sklearn.pipeline import Pipeline\n",
    "from sklearn.preprocessing import StandardScaler\n",
    "from sklearn.neighbors import KNeighborsClassifier\n",
    "\n",
    "with mlflow.start_run(run_name='KNeighborsClassifier'):\n",
    "    # Registro das tags\n",
    "    mlflow.set_tags(tags)\n",
    "\n",
    "    # Criação do modelo\n",
    "    n_vizinhos = 5\n",
    "    scaler = StandardScaler()\n",
    "    knn = KNeighborsClassifier(n_neighbors=n_vizinhos)\n",
    "    pipe = Pipeline([('scaler', StandardScaler()), ('knn', knn)])\n",
    "    pipe.fit(x_train, y_train)\n",
    "\n",
    "    # Predição dos valores de teste\n",
    "    y_pred_knn = pipe.predict(x_test)\n",
    "\n",
    "    # Métricas\n",
    "    acuracia, precision, recall, f1 = metricas(y_test, y_pred_knn)\n",
    "    print(\"Número de Vizinhos: {}\\nAcurácia: {}\\nPrecision: {}\\nRecall: {}\\nF1-Score: {}\".format(\n",
    "        n_vizinhos, acuracia, precision, recall, f1))\n",
    "\n",
    "    # Matriz de confusão\n",
    "    matriz_conf = matriz_confusao(y_test, y_pred_knn)\n",
    "    temp_name = \"confusion-matrix.png\"\n",
    "    matriz_conf.savefig(temp_name)  # Salva a matriz de confusão como imagem\n",
    "    mlflow.log_artifact(temp_name, \"confusion-matrix-plots\")  # Log da imagem no MLflow\n",
    "    try:\n",
    "        os.remove(temp_name)\n",
    "    except FileNotFoundError as e:\n",
    "        print(f\"{temp_name} file is not found\")\n",
    "\n",
    "    # Registro dos parâmetros e métricas\n",
    "    mlflow.log_param(\"n_neighbors\", n_vizinhos)\n",
    "    mlflow.log_metric(\"Acuracia\", acuracia)\n",
    "    mlflow.log_metric(\"Precision\", precision)\n",
    "    mlflow.log_metric(\"Recall\", recall)\n",
    "    mlflow.log_metric(\"F1-Score\", f1)\n",
    "\n",
    "    # Registro do modelo\n",
    "    mlflow.sklearn.log_model(pipe, \"modelo_wine_classificador\")\n"
   ]
  },
  {
   "cell_type": "code",
   "execution_count": null,
   "id": "4776172f",
   "metadata": {},
   "outputs": [],
   "source": [
    "import mlflow\n",
    "import pandas as pd\n",
    "\n",
    "mlflow.set_tracking_uri('http://127.0.0.1:5000/')\n",
    "\n",
    "#Carregando o modelo que está em produção\n",
    "logged_model = 'models:/tutorial_mlflow/Production'\n",
    "loaded_model = mlflow.pyfunc.load_model(logged_model)"
   ]
  }
 ],
 "metadata": {
  "kernelspec": {
   "display_name": "study",
   "language": "python",
   "name": "python3"
  },
  "language_info": {
   "codemirror_mode": {
    "name": "ipython",
    "version": 3
   },
   "file_extension": ".py",
   "mimetype": "text/x-python",
   "name": "python",
   "nbconvert_exporter": "python",
   "pygments_lexer": "ipython3",
   "version": "3.11.9"
  }
 },
 "nbformat": 4,
 "nbformat_minor": 5
}
